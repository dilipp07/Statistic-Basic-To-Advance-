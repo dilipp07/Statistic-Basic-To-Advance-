{
 "cells": [
  {
   "cell_type": "markdown",
   "id": "cf470fd0",
   "metadata": {},
   "source": [
    "#    STATISTIC FOR DATA SCIENCE (Basics)"
   ]
  },
  {
   "cell_type": "markdown",
   "id": "44f1f11e",
   "metadata": {},
   "source": [
    "Statistics is a crucial process which helps to make the decision based on the data.Statistics concerns the collection of data, organisation, interpretation, analysis and data presentation."
   ]
  },
  {
   "cell_type": "markdown",
   "id": "0f447ff0",
   "metadata": {},
   "source": [
    "### TYPES OF STATISTIC"
   ]
  },
  {
   "cell_type": "markdown",
   "id": "7957f5aa",
   "metadata": {},
   "source": [
    "The two main branches of statistics are:\n",
    "\n",
    "\n",
    "\n",
    "\n"
   ]
  },
  {
   "cell_type": "markdown",
   "id": "b2abea7e",
   "metadata": {},
   "source": [
    "###### Descriptive Statistics-"
   ]
  },
  {
   "cell_type": "markdown",
   "id": "0ef8eaeb",
   "metadata": {},
   "source": [
    "1-Through graphs or tables, or numerical calculations, descriptive statistics uses the data to provide descriptions of the 2-population.\n",
    "\n",
    "2-It show the measure of central tendency(Mean,Median,Mode)\n",
    "\n",
    "3-Measure of dispersion(variance and Standard deviation)\n",
    "\n",
    "3-Different Types of distribution of data"
   ]
  },
  {
   "cell_type": "markdown",
   "id": "d8fad076",
   "metadata": {},
   "source": [
    "###### Inferential Statistics- "
   ]
  },
  {
   "cell_type": "markdown",
   "id": "f5393435",
   "metadata": {},
   "source": [
    "1-Based on the data sample taken from the population, inferential statistics makes the predictions and inferences.\n",
    "\n",
    "2-Performing hypothesis testing on the data to find conclusion"
   ]
  },
  {
   "cell_type": "markdown",
   "id": "d74c78af",
   "metadata": {},
   "source": [
    "Example-\n",
    "\n",
    "Let us consider the performance of the student in a semester exam .Finding out mean,median,mode are all comming under Descriptive Statistics.\n",
    "\n",
    "Now if the question is the performance of that student is quite similar as the average class performance ,this comes under Inferential Statistics\n",
    "\n",
    "\n",
    "\n"
   ]
  },
  {
   "cell_type": "markdown",
   "id": "adc1d8a8",
   "metadata": {},
   "source": [
    "##### Population and Sample"
   ]
  },
  {
   "cell_type": "markdown",
   "id": "655cbae0",
   "metadata": {},
   "source": [
    "\n",
    "\n",
    "\n",
    "Let us now know about the difference between population and sample\n",
    "\n",
    "A population is the entire group of data that you want to draw conclusions about.It is represented by(N)\n",
    "\n",
    "A sample is the specific group that you will collect data from. The size of the sample is always less than the total size of the population.It is represented by(n)"
   ]
  },
  {
   "cell_type": "markdown",
   "id": "de11ea18",
   "metadata": {},
   "source": [
    "#### Types Of Data"
   ]
  },
  {
   "cell_type": "markdown",
   "id": "abfa34e5",
   "metadata": {},
   "source": [
    "The data is classified into majorly four categories:\n",
    "\n",
    "Nominal data-Ex-gender,Blood group,color\n",
    "\n",
    "Ordinal data-Ex- Ranks in class\n",
    "\n",
    "Discrete data-Ex- number of childer, no of bank accounts\n",
    "\n",
    "Continuous data-Ex-height,weight,age,temperature"
   ]
  },
  {
   "cell_type": "markdown",
   "id": "b9a8d7ec",
   "metadata": {},
   "source": [
    "The former two coming under categorical Data and the later two coming under numerical or quantivative data "
   ]
  },
  {
   "cell_type": "markdown",
   "id": "457668b9",
   "metadata": {},
   "source": [
    "## Scales of Measurement"
   ]
  },
  {
   "cell_type": "markdown",
   "id": "df4a7529",
   "metadata": {},
   "source": [
    "The four scales of measurement in statistics are listed below:\n",
    "\n",
    "Nominal-Here order doesnot matters\n",
    "\n",
    "Ordinal-Here order and ranking matters.But the difference cannot be measured--------Eg 70-90%-1st dIvision,40-70%-2nd division\n",
    "\n",
    "Interval-Here order and ranking matters.The difference can be measured.No zero staring point\n",
    "\n",
    "Ratio-Here order and ranking matters.The difference can be measured.There is zero staring point"
   ]
  },
  {
   "cell_type": "markdown",
   "id": "70d9425f",
   "metadata": {},
   "source": [
    "# Descriptive Statistic"
   ]
  },
  {
   "cell_type": "markdown",
   "id": "4aced1b2",
   "metadata": {},
   "source": [
    "### MEAN , MEDIAN , MODE (CENTRAL TENDENCY)"
   ]
  },
  {
   "cell_type": "code",
   "execution_count": 1,
   "id": "a98e9bb6",
   "metadata": {},
   "outputs": [],
   "source": [
    "import pandas as pd\n",
    "import seaborn as sns\n",
    "import statistics as st\n",
    "from scipy import stats as sts\n",
    "import numpy as np"
   ]
  },
  {
   "cell_type": "markdown",
   "id": "6ad6d486",
   "metadata": {},
   "source": [
    "Mean-Mean is nothing but the average of the given set of values.\n",
    "\n",
    "Median-For a data set, it may be thought of as \"the middle\" value\n",
    "\n",
    "Mode- Maximum number of frequency of a data point occuring in sample"
   ]
  },
  {
   "cell_type": "code",
   "execution_count": 2,
   "id": "b15b541d",
   "metadata": {},
   "outputs": [],
   "source": [
    "data=[34,40,39,44,40,98,45,25,44,45,43,55]\n",
    "data.sort()"
   ]
  },
  {
   "cell_type": "code",
   "execution_count": 3,
   "id": "efcee682",
   "metadata": {},
   "outputs": [
    {
     "data": {
      "text/plain": [
       "46.0"
      ]
     },
     "execution_count": 3,
     "metadata": {},
     "output_type": "execute_result"
    }
   ],
   "source": [
    "np.mean(data)"
   ]
  },
  {
   "cell_type": "code",
   "execution_count": 4,
   "id": "11ad0117",
   "metadata": {},
   "outputs": [
    {
     "data": {
      "text/plain": [
       "43.5"
      ]
     },
     "execution_count": 4,
     "metadata": {},
     "output_type": "execute_result"
    }
   ],
   "source": [
    "np.median(data)"
   ]
  },
  {
   "cell_type": "markdown",
   "id": "98cbc0b1",
   "metadata": {},
   "source": [
    "When to use mean and When to use median?"
   ]
  },
  {
   "cell_type": "markdown",
   "id": "ce6a40f7",
   "metadata": {},
   "source": [
    "If there is no outlier in your data then  use mean else median"
   ]
  },
  {
   "cell_type": "code",
   "execution_count": 5,
   "id": "464b5465",
   "metadata": {},
   "outputs": [],
   "source": [
    "data1=[34,40,39,44,40,98,45,25,44,44,45,43,55,1000]\n",
    "# Here 1000 is the outlier "
   ]
  },
  {
   "cell_type": "code",
   "execution_count": 6,
   "id": "a27b36c1",
   "metadata": {},
   "outputs": [
    {
     "data": {
      "text/plain": [
       "114.0"
      ]
     },
     "execution_count": 6,
     "metadata": {},
     "output_type": "execute_result"
    }
   ],
   "source": [
    "np.mean(data1)"
   ]
  },
  {
   "cell_type": "code",
   "execution_count": 7,
   "id": "3db9456f",
   "metadata": {},
   "outputs": [
    {
     "data": {
      "text/plain": [
       "44.0"
      ]
     },
     "execution_count": 7,
     "metadata": {},
     "output_type": "execute_result"
    }
   ],
   "source": [
    "np.median(data1)"
   ]
  },
  {
   "cell_type": "markdown",
   "id": "033fc7b1",
   "metadata": {},
   "source": [
    "Note-sort the data while finding median"
   ]
  },
  {
   "cell_type": "code",
   "execution_count": 8,
   "id": "05697e18",
   "metadata": {},
   "outputs": [
    {
     "data": {
      "text/plain": [
       "44"
      ]
     },
     "execution_count": 8,
     "metadata": {},
     "output_type": "execute_result"
    }
   ],
   "source": [
    "st.mode(data1)"
   ]
  },
  {
   "cell_type": "markdown",
   "id": "bf757d8b",
   "metadata": {},
   "source": [
    "Use mode while dealing with Categorical data "
   ]
  },
  {
   "cell_type": "markdown",
   "id": "2adc1bc6",
   "metadata": {},
   "source": [
    "# Dispersion Of Data"
   ]
  },
  {
   "cell_type": "markdown",
   "id": "cb98d37f",
   "metadata": {},
   "source": [
    "### Variance and Standard deviation"
   ]
  },
  {
   "cell_type": "markdown",
   "id": "53a6a3a4",
   "metadata": {},
   "source": [
    "Variance is a measure of how data points differ from the mean\n",
    "\n",
    "Standard deviation is the root over of variance\n",
    "\n",
    "Population variance=(summation(Xi-M)*(Xi-μ)/N)^1/2\n",
    "\n",
    "Sample variance=(summation(Xi-M)*(Xi-μ)/n-1)^1/2\n",
    "\n",
    "μ= Population mean of all Values\n",
    "\n",
    "n = Number of observations in the sample set\n",
    "\n",
    " \n",
    "N = Total number of values in the population\n",
    "\n",
    "Standard deviation=variance^0.5"
   ]
  },
  {
   "cell_type": "code",
   "execution_count": 9,
   "id": "be7a8f85",
   "metadata": {},
   "outputs": [
    {
     "data": {
      "text/plain": [
       "0.40924"
      ]
     },
     "execution_count": 9,
     "metadata": {},
     "output_type": "execute_result"
    }
   ],
   "source": [
    "sample = [2.74, 1.23, 2.63, 2.22, 3, 1.98]\n",
    "st.variance(sample)"
   ]
  },
  {
   "cell_type": "code",
   "execution_count": 10,
   "id": "c7d3d210",
   "metadata": {},
   "outputs": [
    {
     "data": {
      "text/plain": [
       "0.639718688174732"
      ]
     },
     "execution_count": 10,
     "metadata": {},
     "output_type": "execute_result"
    }
   ],
   "source": [
    "st.stdev(sample)"
   ]
  }
 ],
 "metadata": {
  "kernelspec": {
   "display_name": "Python 3 (ipykernel)",
   "language": "python",
   "name": "python3"
  },
  "language_info": {
   "codemirror_mode": {
    "name": "ipython",
    "version": 3
   },
   "file_extension": ".py",
   "mimetype": "text/x-python",
   "name": "python",
   "nbconvert_exporter": "python",
   "pygments_lexer": "ipython3",
   "version": "3.9.12"
  }
 },
 "nbformat": 4,
 "nbformat_minor": 5
}
